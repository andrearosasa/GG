{
 "cells": [
  {
   "cell_type": "code",
   "execution_count": 1,
   "id": "initial_id",
   "metadata": {
    "collapsed": true,
    "ExecuteTime": {
     "end_time": "2023-09-14T21:57:09.091979100Z",
     "start_time": "2023-09-14T21:57:07.249499300Z"
    }
   },
   "outputs": [
    {
     "name": "stdout",
     "output_type": "stream",
     "text": [
      "DataFrame guardado en reporte_13.xlsx\n",
      "    isla terminal  coin_in  net_win\n",
      "0    ---   160062     0.76     0.76\n",
      "2    ---   341001  1550.16  -290.87\n",
      "3    ---   341000   899.16  -401.17\n",
      "4    ---   341002  4119.64  1221.97\n",
      "5    ---   341003   605.96   -90.72\n",
      "..   ...      ...      ...      ...\n",
      "262   40   820034    537.8    36.07\n",
      "263   40   820036   1452.5   372.28\n",
      "265   41   630405    863.3   206.25\n",
      "266   41   630892    251.2       85\n",
      "268   52   971009   1148.7   223.83\n",
      "\n",
      "[232 rows x 4 columns]\n"
     ]
    }
   ],
   "source": [
    "#Importar Librerias\n",
    "import pandas as pd\n",
    "from openpyxl import load_workbook\n",
    "from openpyxl.styles import Font, PatternFill, Alignment\n",
    "from openpyxl.utils.dataframe import dataframe_to_rows\n",
    "from datetime import datetime\n",
    "import locale\n",
    "locale.setlocale(locale.LC_ALL, 'en_US')\n",
    "#Leer Archivo\n",
    "base = pd.read_excel('13-keops.xlsx', sheet_name='Reportes de productividad', header=13)\n",
    "#Eliminar columnas no deseadas\n",
    "base = base.drop(base.columns[0], axis=1)\n",
    "#Especificar columnas que voy a utilizar\n",
    "columnas_especificas = ['Isla','Terminal','Jugado','Netwin']\n",
    "base = base[columnas_especificas]\n",
    "# Encontrar Total dentro de la columna Isla, para solo tomar en cuenta\n",
    "total_index = base[base['Isla'] == 'TOTAL: '].index[0]\n",
    "# Filter the DataFrame to include only rows before the \"TOTAL:\" row in the 'Isla' column\n",
    "base = base.loc[:total_index - 1]\n",
    "# Filtrar datos no deseados\n",
    "base = base.loc[~base['Isla'].isin(['Subtotal:'])]\n",
    "base = base.loc[~base['Terminal'].isin(['BONOPLAY'])]\n",
    "base['Terminal'] = base['Terminal'].str.split('-', expand=True)[0]\n",
    "nuevos_nombres = {\n",
    "        'Isla': 'isla',\n",
    "        'Terminal': 'terminal',\n",
    "        'Jugado': 'coin_in',\n",
    "        'Netwin': 'net_win',\n",
    "    }\n",
    "base.rename(columns=nuevos_nombres, inplace=True)\n",
    "# Nombre del archivo de salida\n",
    "output_file = 'reporte_13.xlsx'\n",
    "\n",
    "# Guardar el DataFrame modificado en un archivo Excel\n",
    "base.to_excel(output_file, index=False)\n",
    "\n",
    "# Imprimir el mensaje de confirmación\n",
    "print(f'DataFrame guardado en {output_file}')\n",
    "print(base)"
   ]
  },
  {
   "cell_type": "code",
   "execution_count": 2,
   "outputs": [
    {
     "name": "stdout",
     "output_type": "stream",
     "text": [
      "          Desde sala       fecha             Hasta terminal  game_played  \\\n",
      "0    13/09/2023    2  13/09/2023  14/09/2023 07:00   860001       1774.0   \n",
      "1    13/09/2023    2  13/09/2023  14/09/2023 07:00   860002       2082.0   \n",
      "2    13/09/2023    2  13/09/2023  14/09/2023 07:00   860003       6441.0   \n",
      "3    13/09/2023    2  13/09/2023  14/09/2023 07:00   860004         64.0   \n",
      "4    13/09/2023    2  13/09/2023  14/09/2023 07:00   860013       5647.0   \n",
      "..          ...  ...         ...               ...      ...          ...   \n",
      "236  13/09/2023    2  13/09/2023  14/09/2023 07:00   870002        243.0   \n",
      "237  13/09/2023    2  13/09/2023  14/09/2023 07:00   870003        102.0   \n",
      "238  13/09/2023    2  13/09/2023  14/09/2023 07:00   870004       1354.0   \n",
      "239  13/09/2023    2  13/09/2023  14/09/2023 07:00   870006        466.0   \n",
      "240  13/09/2023    2  13/09/2023  14/09/2023 07:00   870007        104.0   \n",
      "\n",
      "     average_bet  \n",
      "0           0.66  \n",
      "1           0.98  \n",
      "2           5.71  \n",
      "3           0.40  \n",
      "4           0.81  \n",
      "..           ...  \n",
      "236         0.50  \n",
      "237         1.21  \n",
      "238         0.56  \n",
      "239         1.52  \n",
      "240         0.50  \n",
      "\n",
      "[222 rows x 7 columns]\n"
     ]
    },
    {
     "name": "stderr",
     "output_type": "stream",
     "text": [
      "C:\\Users\\Andrea Rosas\\AppData\\Local\\Temp\\ipykernel_6752\\891382912.py:8: UserWarning: Parsing dates in %d/%m/%Y %H:%M format when dayfirst=False (the default) was specified. Pass `dayfirst=True` or specify a format to silence this warning.\n",
      "  apuestas['Desde'] = pd.to_datetime(apuestas['Desde']).dt.strftime('%d/%m/%Y')\n"
     ]
    }
   ],
   "source": [
    "apuestas = pd.read_excel('13-keops-apuesta.xlsx', sheet_name='Sheet1', header=6)\n",
    "apuestas=apuestas.drop(apuestas.columns[0], axis=1)\n",
    "columnas_necesarias=['Desde','Hasta','Nombre','Jugadas','Apuesta media']\n",
    "apuestas=apuestas[columnas_necesarias]\n",
    "total_index_1 = apuestas[apuestas['Desde'] == 'Total Mensual'].index[0]\n",
    "apuestas = apuestas.loc[:total_index_1 - 1]\n",
    "apuestas = apuestas.loc[~apuestas['Hasta'].isin(['Subtotal:'])]\n",
    "apuestas['Desde'] = pd.to_datetime(apuestas['Desde']).dt.strftime('%d/%m/%Y')\n",
    "apuestas['Nombre'] = apuestas['Nombre'].str.split('-', expand=True)[0]\n",
    "apuestas.insert(1, 'sala', '2')\n",
    "apuestas.insert(2, 'fecha', '13/09/2023')\n",
    "nuevos_nombres_1 = {\n",
    "        'Nombre': 'terminal',\n",
    "        'Jugadas': 'game_played',\n",
    "        'Apuesta media': 'average_bet',\n",
    "    }\n",
    "apuestas.rename(columns=nuevos_nombres_1, inplace=True)\n",
    "# Nombre del archivo de salida\n",
    "output_file = 'apuesta_13.xlsx'\n",
    "\n",
    "# Guardar el DataFrame modificado en un archivo Excel\n",
    "apuestas.to_excel(output_file, index=False)\n",
    "print(apuestas)"
   ],
   "metadata": {
    "collapsed": false,
    "ExecuteTime": {
     "end_time": "2023-09-14T21:57:09.249686900Z",
     "start_time": "2023-09-14T21:57:09.094979200Z"
    }
   },
   "id": "d71e06d97d90edba"
  }
 ],
 "metadata": {
  "kernelspec": {
   "display_name": "Python 3",
   "language": "python",
   "name": "python3"
  },
  "language_info": {
   "codemirror_mode": {
    "name": "ipython",
    "version": 2
   },
   "file_extension": ".py",
   "mimetype": "text/x-python",
   "name": "python",
   "nbconvert_exporter": "python",
   "pygments_lexer": "ipython2",
   "version": "2.7.6"
  }
 },
 "nbformat": 4,
 "nbformat_minor": 5
}
