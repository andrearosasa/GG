{
 "cells": [
  {
   "cell_type": "code",
   "execution_count": 1,
   "id": "initial_id",
   "metadata": {
    "collapsed": true,
    "ExecuteTime": {
     "end_time": "2023-09-14T21:56:20.142918500Z",
     "start_time": "2023-09-14T21:56:18.289085700Z"
    }
   },
   "outputs": [
    {
     "name": "stdout",
     "output_type": "stream",
     "text": [
      "    Isla                  Terminal   Jugado  Netwin\n",
      "1    ---       723003 / 6258600237   6044.5 -272.55\n",
      "2    ---       723001 / 6258600235    818.5  398.27\n",
      "3    ---       723002 / 6258600236     1811  -40.95\n",
      "4    ---       723004 / 6258600238    679.5  239.64\n",
      "6      1  006 / 632246 / XAW039691  1397.65 -180.14\n",
      "..   ...                       ...      ...     ...\n",
      "311  100     193 / 189108 / 104104   6038.8   719.6\n",
      "312  100     191 / 189106 / 104102        0       0\n",
      "313  100     192 / 189107 / 104103  5185.45    -395\n",
      "314  100     195 / 189110 / 104106   1376.8  -307.9\n",
      "315  100     198 / 189113 / 104109   5451.8  -14.75\n",
      "\n",
      "[283 rows x 4 columns]\n"
     ]
    }
   ],
   "source": [
    "#Importar Librerias\n",
    "import pandas as pd\n",
    "from openpyxl import load_workbook\n",
    "from openpyxl.styles import Font, PatternFill, Alignment\n",
    "from openpyxl.utils.dataframe import dataframe_to_rows\n",
    "from datetime import datetime\n",
    "import locale\n",
    "locale.setlocale(locale.LC_ALL, 'en_US')\n",
    "#Leer Archivo\n",
    "base = pd.read_excel('13-winmeier.xlsx', sheet_name='Reportes de productividad', header=13)\n",
    "#Eliminar columnas no deseadas\n",
    "base = base.drop(base.columns[0], axis=1)\n",
    "#Especificar columnas que voy a utilizar\n",
    "columnas_especificas = ['Isla','Terminal','Jugado','Netwin']\n",
    "base = base[columnas_especificas]\n",
    "# Encontrar Total dentro de la columna Isla, para solo tomar en cuenta\n",
    "total_index = base[base['Isla'] == 'TOTAL: '].index[0]\n",
    "# Filter the DataFrame to include only rows before the \"TOTAL:\" row in the 'Isla' column\n",
    "base = base.loc[:total_index - 1]\n",
    "# Filtrar datos no deseados\n",
    "base = base.loc[~base['Isla'].isin(['Subtotal:'])]\n",
    "base = base.loc[~base['Terminal'].isin(['BONOPLAY'])]\n",
    "base['Terminal'] = base['Terminal'].str.split('-', expand=True)[0]\n",
    "print(base)"
   ]
  },
  {
   "cell_type": "code",
   "execution_count": 2,
   "outputs": [
    {
     "name": "stdout",
     "output_type": "stream",
     "text": [
      "DataFrame guardado en reporte_13.xlsx\n",
      "    isla     terminal  coin_in net_win\n",
      "1    ---   6258600237   6044.5 -272.55\n",
      "2    ---   6258600235    818.5  398.27\n",
      "3    ---   6258600236     1811  -40.95\n",
      "4    ---   6258600238    679.5  239.64\n",
      "6      1      632246   1397.65 -180.14\n",
      "..   ...          ...      ...     ...\n",
      "311  100      189108    6038.8   719.6\n",
      "312  100      189106         0       0\n",
      "313  100      189107   5185.45    -395\n",
      "314  100      189110    1376.8  -307.9\n",
      "315  100      189113    5451.8  -14.75\n",
      "\n",
      "[283 rows x 4 columns]\n"
     ]
    }
   ],
   "source": [
    "base['Terminal'] = base['Terminal'].str.split('/', expand=True)[1]\n",
    "nuevos_nombres = {\n",
    "        'Isla': 'isla',\n",
    "        'Terminal': 'terminal',\n",
    "        'Jugado': 'coin_in',\n",
    "        'Netwin': 'net_win',\n",
    "    }\n",
    "base.rename(columns=nuevos_nombres, inplace=True)\n",
    "# Nombre del archivo de salida\n",
    "output_file = 'reporte_13.xlsx'\n",
    "\n",
    "# Guardar el DataFrame modificado en un archivo Excel\n",
    "base.to_excel(output_file, index=False)\n",
    "\n",
    "# Imprimir el mensaje de confirmación\n",
    "print(f'DataFrame guardado en {output_file}')\n",
    "print(base)"
   ],
   "metadata": {
    "collapsed": false,
    "ExecuteTime": {
     "end_time": "2023-09-14T21:56:20.235917800Z",
     "start_time": "2023-09-14T21:56:20.147924200Z"
    }
   },
   "id": "a1ba3ca7c0e822d7"
  },
  {
   "cell_type": "code",
   "execution_count": 3,
   "outputs": [
    {
     "name": "stdout",
     "output_type": "stream",
     "text": [
      "          Desde sala       fecha             Hasta                    Nombre  \\\n",
      "0    13/09/2023    3  13/09/2023  14/09/2023 07:00  077 / 860011 / XAR648382   \n",
      "1    13/09/2023    3  13/09/2023  14/09/2023 07:00  080 / 860010 / XAR648379   \n",
      "2    13/09/2023    3  13/09/2023  14/09/2023 07:00  081 / 860009 / XAR648349   \n",
      "3    13/09/2023    3  13/09/2023  14/09/2023 07:00  082 / 860012 / XAR648489   \n",
      "4    13/09/2023    3  13/09/2023  14/09/2023 07:00  319 / 860025 / XAR653941   \n",
      "..          ...  ...         ...               ...                       ...   \n",
      "278  13/09/2023    3  13/09/2023  14/09/2023 07:00   165 / 140095 / W2055054   \n",
      "279  13/09/2023    3  13/09/2023  14/09/2023 07:00   166 / 140030 / W2023885   \n",
      "280  13/09/2023    3  13/09/2023  14/09/2023 07:00   201 / 140077 / W2055055   \n",
      "281  13/09/2023    3  13/09/2023  14/09/2023 07:00    290 / 160059 / 5015770   \n",
      "282  13/09/2023    3  13/09/2023  14/09/2023 07:00    291 / 160053 / 5015763   \n",
      "\n",
      "     Jugadas  Apuesta media  \n",
      "0      726.0           0.25  \n",
      "1      848.0           0.54  \n",
      "2      733.0           0.47  \n",
      "3      635.0           0.46  \n",
      "4     3009.0           0.13  \n",
      "..       ...            ...  \n",
      "278    794.0           0.34  \n",
      "279    903.0           0.43  \n",
      "280    240.0           0.62  \n",
      "281   1855.0           1.00  \n",
      "282   1911.0           0.47  \n",
      "\n",
      "[271 rows x 7 columns]\n"
     ]
    },
    {
     "name": "stderr",
     "output_type": "stream",
     "text": [
      "C:\\Users\\Andrea Rosas\\AppData\\Local\\Temp\\ipykernel_15108\\1348310958.py:8: UserWarning: Parsing dates in %d/%m/%Y %H:%M format when dayfirst=False (the default) was specified. Pass `dayfirst=True` or specify a format to silence this warning.\n",
      "  apuestas['Desde'] = pd.to_datetime(apuestas['Desde']).dt.strftime('%d/%m/%Y')\n"
     ]
    }
   ],
   "source": [
    "apuestas = pd.read_excel('13-winmeier-apuestas.xlsx', sheet_name='Sheet1', header=6)\n",
    "apuestas=apuestas.drop(apuestas.columns[0], axis=1)\n",
    "columnas_necesarias=['Desde','Hasta','Nombre','Jugadas','Apuesta media']\n",
    "apuestas=apuestas[columnas_necesarias]\n",
    "total_index_1 = apuestas[apuestas['Desde'] == 'Total Mensual'].index[0]\n",
    "apuestas = apuestas.loc[:total_index_1 -1]\n",
    "apuestas = apuestas.loc[~apuestas['Hasta'].isin(['Subtotal:'])]\n",
    "apuestas['Desde'] = pd.to_datetime(apuestas['Desde']).dt.strftime('%d/%m/%Y')\n",
    "apuestas['Nombre'] = apuestas['Nombre'].str.split('-', expand=True)[0]\n",
    "apuestas.insert(1, 'sala', '3')\n",
    "apuestas.insert(2, 'fecha', '13/09/2023')\n",
    "print(apuestas)"
   ],
   "metadata": {
    "collapsed": false,
    "ExecuteTime": {
     "end_time": "2023-09-14T21:56:20.343888900Z",
     "start_time": "2023-09-14T21:56:20.236917700Z"
    }
   },
   "id": "c2d0e2bef8ff2dc7"
  },
  {
   "cell_type": "code",
   "execution_count": 4,
   "outputs": [
    {
     "name": "stdout",
     "output_type": "stream",
     "text": [
      "    sala       fecha  terminal  game_played  average_bet\n",
      "0      3  13/09/2023   860011         726.0         0.25\n",
      "1      3  13/09/2023   860010         848.0         0.54\n",
      "2      3  13/09/2023   860009         733.0         0.47\n",
      "3      3  13/09/2023   860012         635.0         0.46\n",
      "4      3  13/09/2023   860025        3009.0         0.13\n",
      "..   ...         ...       ...          ...          ...\n",
      "278    3  13/09/2023   140095         794.0         0.34\n",
      "279    3  13/09/2023   140030         903.0         0.43\n",
      "280    3  13/09/2023   140077         240.0         0.62\n",
      "281    3  13/09/2023   160059        1855.0         1.00\n",
      "282    3  13/09/2023   160053        1911.0         0.47\n",
      "\n",
      "[271 rows x 5 columns]\n"
     ]
    }
   ],
   "source": [
    "apuestas['Nombre'] = apuestas['Nombre'].str.split('/', expand=True)[1]\n",
    "apuestas.drop('Hasta', axis=1, inplace=True)\n",
    "apuestas.drop('Desde', axis=1, inplace=True)\n",
    "nuevos_nombres_1 = {\n",
    "        'Nombre': 'terminal',\n",
    "        'Jugadas': 'game_played',\n",
    "        'Apuesta media': 'average_bet',\n",
    "    }\n",
    "apuestas.rename(columns=nuevos_nombres_1, inplace=True)\n",
    "# Nombre del archivo de salida\n",
    "output_file = 'apuesta_13.xlsx'\n",
    "\n",
    "# Guardar el DataFrame modificado en un archivo Excel\n",
    "apuestas.to_excel(output_file, index=False)\n",
    "print(apuestas)"
   ],
   "metadata": {
    "collapsed": false,
    "ExecuteTime": {
     "end_time": "2023-09-14T21:56:20.425491900Z",
     "start_time": "2023-09-14T21:56:20.342888800Z"
    }
   },
   "id": "64ccaa86e5165c1b"
  },
  {
   "cell_type": "code",
   "execution_count": 4,
   "outputs": [],
   "source": [],
   "metadata": {
    "collapsed": false,
    "ExecuteTime": {
     "end_time": "2023-09-14T21:56:20.426483900Z",
     "start_time": "2023-09-14T21:56:20.406484800Z"
    }
   },
   "id": "a4e436a1a945a77e"
  }
 ],
 "metadata": {
  "kernelspec": {
   "display_name": "Python 3",
   "language": "python",
   "name": "python3"
  },
  "language_info": {
   "codemirror_mode": {
    "name": "ipython",
    "version": 2
   },
   "file_extension": ".py",
   "mimetype": "text/x-python",
   "name": "python",
   "nbconvert_exporter": "python",
   "pygments_lexer": "ipython2",
   "version": "2.7.6"
  }
 },
 "nbformat": 4,
 "nbformat_minor": 5
}
